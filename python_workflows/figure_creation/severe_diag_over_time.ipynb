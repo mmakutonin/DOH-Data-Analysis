{
 "cells": [
  {
   "cell_type": "code"
   "execution_count": 1,
   "metadata": {},
   "outputs": [],
   "source": [
    "import numpy as np\n",
    "import pandas as pd\n",
    "import os"
   ]
  },
  {
   "cell_type": "code",
   "execution_count": 2,
   "metadata": {},
   "outputs": [
    {
     "data": {
      "text/plain": [
       "['severe_diagnoses_2009.csv',\n",
       " 'severe_diagnoses_2010.csv',\n",
       " 'severe_diagnoses_2011.csv',\n",
       " 'severe_diagnoses_2012.csv',\n",
       " 'severe_diagnoses_2013.csv',\n",
       " 'severe_diagnoses_2014.csv',\n",
       " 'severe_diagnoses_2015.csv',\n",
       " 'severe_diagnoses_2016.csv']"
      ]
     },
     "execution_count": 2,
     "metadata": {},
     "output_type": "execute_result"
    }
   ],
   "source": [
    "data_path = '../../data/enriched_data/2019_style_analysis/'\n",
    "def filter_severe_diag_files(diag):\n",
    "    if diag.startswith('severe_diagnoses_'):\n",
    "        return True\n",
    "    else:\n",
    "        return False\n",
    "severe_diagnoses = filter(filter_severe_diag_files, os.listdir(data_path))\n",
    "severe_diagnosis_array = []\n",
    "for item in severe_diagnoses:\n",
    "    severe_diagnosis_array.append(item)\n",
    "severe_diagnosis_array"
   ]
  },
  {
   "cell_type": "code",
   "execution_count": 3,
   "metadata": {},
   "outputs": [
    {
     "data": {
      "text/plain": [
       "16"
      ]
     },
     "execution_count": 3,
     "metadata": {},
     "output_type": "execute_result"
    }
   ],
   "source": [
    "severe_diagnosis_array[0].index('_2009')"
   ]
  },
  {
   "cell_type": "raw",
   "metadata": {},
   "source": []
  },
  {
   "cell_type": "code",
   "execution_count": 4,
   "metadata": {},
   "outputs": [
    {
     "data": {
      "text/html": [
       "<div>\n",
       "<style scoped>\n",
       "    .dataframe tbody tr th:only-of-type {\n",
       "        vertical-align: middle;\n",
       "    }\n",
       "\n",
       "    .dataframe tbody tr th {\n",
       "        vertical-align: top;\n",
       "    }\n",
       "\n",
       "    .dataframe thead th {\n",
       "        text-align: right;\n",
       "    }\n",
       "</style>\n",
       "<table border=\"1\" class=\"dataframe\">\n",
       "  <thead>\n",
       "    <tr style=\"text-align: right;\">\n",
       "      <th></th>\n",
       "      <th>Disease</th>\n",
       "      <th>2008</th>\n",
       "      <th>2009</th>\n",
       "      <th>2010</th>\n",
       "      <th>2011</th>\n",
       "      <th>2012</th>\n",
       "      <th>2013</th>\n",
       "      <th>2014</th>\n",
       "      <th>2015</th>\n",
       "      <th>data_type</th>\n",
       "    </tr>\n",
       "  </thead>\n",
       "  <tbody>\n",
       "    <tr>\n",
       "      <th>0</th>\n",
       "      <td>Heart Disease</td>\n",
       "      <td>286.4</td>\n",
       "      <td>259.4</td>\n",
       "      <td>313.2</td>\n",
       "      <td>293.6</td>\n",
       "      <td>258.9</td>\n",
       "      <td>235.1</td>\n",
       "      <td>247.4</td>\n",
       "      <td>271.8</td>\n",
       "      <td>DOH</td>\n",
       "    </tr>\n",
       "    <tr>\n",
       "      <th>1</th>\n",
       "      <td>Cancer</td>\n",
       "      <td>184.1</td>\n",
       "      <td>175.5</td>\n",
       "      <td>188.9</td>\n",
       "      <td>159.3</td>\n",
       "      <td>149.0</td>\n",
       "      <td>157.4</td>\n",
       "      <td>175.4</td>\n",
       "      <td>170.1</td>\n",
       "      <td>DOH</td>\n",
       "    </tr>\n",
       "    <tr>\n",
       "      <th>2</th>\n",
       "      <td>CLRD</td>\n",
       "      <td>45.2</td>\n",
       "      <td>57.9</td>\n",
       "      <td>65.4</td>\n",
       "      <td>56.3</td>\n",
       "      <td>61.0</td>\n",
       "      <td>38.9</td>\n",
       "      <td>37.2</td>\n",
       "      <td>57.7</td>\n",
       "      <td>DOH</td>\n",
       "    </tr>\n",
       "    <tr>\n",
       "      <th>3</th>\n",
       "      <td>Stroke</td>\n",
       "      <td>20.0</td>\n",
       "      <td>37.0</td>\n",
       "      <td>39.0</td>\n",
       "      <td>36.0</td>\n",
       "      <td>39.0</td>\n",
       "      <td>38.0</td>\n",
       "      <td>36.0</td>\n",
       "      <td>39.0</td>\n",
       "      <td>DOH</td>\n",
       "    </tr>\n",
       "    <tr>\n",
       "      <th>4</th>\n",
       "      <td>Unintentional Injury</td>\n",
       "      <td>35.7</td>\n",
       "      <td>NaN</td>\n",
       "      <td>39.8</td>\n",
       "      <td>42.0</td>\n",
       "      <td>30.2</td>\n",
       "      <td>45.0</td>\n",
       "      <td>NaN</td>\n",
       "      <td>42.9</td>\n",
       "      <td>DOH</td>\n",
       "    </tr>\n",
       "    <tr>\n",
       "      <th>5</th>\n",
       "      <td>Diabetes</td>\n",
       "      <td>NaN</td>\n",
       "      <td>NaN</td>\n",
       "      <td>NaN</td>\n",
       "      <td>NaN</td>\n",
       "      <td>NaN</td>\n",
       "      <td>36.8</td>\n",
       "      <td>NaN</td>\n",
       "      <td>42.9</td>\n",
       "      <td>DOH</td>\n",
       "    </tr>\n",
       "  </tbody>\n",
       "</table>\n",
       "</div>"
      ],
      "text/plain": [
       "                Disease   2008   2009   2010   2011   2012   2013   2014  \\\n",
       "0         Heart Disease  286.4  259.4  313.2  293.6  258.9  235.1  247.4   \n",
       "1                Cancer  184.1  175.5  188.9  159.3  149.0  157.4  175.4   \n",
       "2                  CLRD   45.2   57.9   65.4   56.3   61.0   38.9   37.2   \n",
       "3                Stroke   20.0   37.0   39.0   36.0   39.0   38.0   36.0   \n",
       "4  Unintentional Injury   35.7    NaN   39.8   42.0   30.2   45.0    NaN   \n",
       "5              Diabetes    NaN    NaN    NaN    NaN    NaN   36.8    NaN   \n",
       "\n",
       "    2015 data_type  \n",
       "0  271.8       DOH  \n",
       "1  170.1       DOH  \n",
       "2   57.7       DOH  \n",
       "3   39.0       DOH  \n",
       "4   42.9       DOH  \n",
       "5   42.9       DOH  "
      ]
     },
     "execution_count": 4,
     "metadata": {},
     "output_type": "execute_result"
    }
   ],
   "source": [
    "doh_mortality = pd.read_excel('../../data/raw_data/DOH_Mortality_2008-2015.xlsx')\n",
    "doh_mortality['data_type'] = 'DOH'\n",
    "doh_mortality"
   ]
  },
  {
   "cell_type": "code",
   "execution_count": 5,
   "metadata": {},
   "outputs": [],
   "source": [
    "def grouping_diag(row):\n",
    "    if row['diagnosis'] == 'Cardiology' or row['apr_drg_description'].upper() == 'CARDIAC ARRHYTHMIA & CONDUCTION DISORDERS' or row['apr_drg_description'].upper() == 'CHEST PAIN':\n",
    "        return 'Heart Disease'\n",
    "    elif row['apr_drg_description'].upper() == 'CVA & PRECEREBRAL OCCLUSION W INFARCT' or row['apr_drg_description'].upper() == 'INTRACRANIAL HEMORRHAGE':\n",
    "        return 'Stroke'\n",
    "    elif row['apr_drg_description'].upper() == 'CHRONIC OBSTRUCTIVE PULMONARY DISEASE':\n",
    "        return 'CLRD'\n",
    "    elif row['apr_drg_description'].upper() == 'RENAL FAILURE':\n",
    "        return 'Renal Failure'\n",
    "    elif row['apr_drg_description'].upper() == 'OTHER VASCULAR PROCEDURES' or row['diagnosis'] == 'Circulatory':\n",
    "        return 'Other Circulatory'\n",
    "    elif row['diagnosis'] == 'Respiratory':\n",
    "        return 'Other ' + row['diagnosis']\n",
    "    elif row['diagnosis'] == 'Infection' or row['apr_drg_description'].upper() == 'CELLULITIS & OTHER BACTERIAL SKIN INFECTIONS' or row['apr_drg_description'].upper() == 'OSTEOMYELITIS, SEPTIC ARTHRITIS & OTHER MUSCULOSKELETAL INFECTIONS':\n",
    "        return 'Infection'\n",
    "    elif row['apr_drg_description'].upper() == 'OTHER DIGESTIVE SYSTEM DIAGNOSES' or row['apr_drg_description'].upper() == 'PEPTIC ULCER & GASTRITIS' or row['apr_drg_description'].upper() == 'MAJOR SMALL & LARGE BOWEL PROCEDURES' or row['apr_drg_description'].upper() =='LAPAROSCOPIC CHOLECYSTECTOMY' or row['apr_drg_description'].upper() == 'INTESTINAL OBSTRUCTION' or row['apr_drg_description'].upper() == 'OTHER & UNSPECIFIED GASTROINTESTINAL HEMORRHAGE' or row['apr_drg_description'].upper() == 'OTHER SMALL & LARGE BOWEL PROCEDURES' or row['apr_drg_description'].upper() == 'INFLAMMATORY BOWEL DISEASE' or row['apr_drg_description'].upper() == 'DISORDERS OF PANCREAS EXCEPT MALIGNANCY' or row['apr_drg_description'].upper() == 'OTHER ESOPHAGEAL DISORDERS' or row['apr_drg_description'].upper() == 'DISORDERS OF GALLBLADDER & BILIARY TRACT' or row['apr_drg_description'].upper() == 'OTHER DISORDERS OF THE LIVER' or row['apr_drg_description'].upper() == 'MAJOR STOMACH, ESOPHAGEAL & DUODENAL PROCEDURES' or row['apr_drg_description'].upper() == 'MAJOR ESOPHAGEAL DISORDERS' or row['apr_drg_description'].upper() == 'OTHER DIGESTIVE SYSTEM & ABDOMINAL PROCEDURES' or row['apr_drg_description'].upper() == 'CHOLECYSTECTOMY EXCEPT LAPAROSCOPIC' or row['apr_drg_description'].upper() == 'SPLENECTOMY' or row['apr_drg_description'].upper() == 'HERNIA PROCEDURES EXCEPT INGUINAL, FEMORAL & UMBILICAL': \n",
    "        return 'Digestive'\n",
    "    elif row['diagnosis'] == 'Trauma' or row['apr_drg_description'].upper()== 'HIP & FEMUR PROCEDURES FOR TRAUMA EXCEPT JOINT REPLACEMENT' or row['apr_drg_description'].upper()== 'OTHER BACK & NECK DISORDERS, FRACTURES & INJURIES' or row['apr_drg_description'].upper()=='FRACTURES & DISLOCATIONS EXCEPT FEMUR, PELVIS & BACK' or row['apr_drg_description'].upper()=='FRACTURE OF FEMUR' or row['apr_drg_description'].upper()== 'CONTUSION, OPEN WOUND & OTHER TRAUMA TO SKIN & SUBCUTANEOUS TISSUE':\n",
    "        return 'Trauma'\n",
    "    elif row['diagnosis'] == 'Neurological' or row['apr_drg_description'].upper()== 'VERTIGO & OTHER LABYRINTH DISORDERS':\n",
    "        return 'Neurological'\n",
    "    elif row['diagnosis'] == 'Cancer' or row['apr_drg_description'].upper()== 'MUSCULOSKELETAL MALIGNANCY & PATHOL FRACTURE D/T MUSCSKEL MALIG':\n",
    "        return 'Cancer'\n",
    "    else:\n",
    "        return row['diagnosis']\n",
    "summary_df = pd.DataFrame()\n",
    "for file in severe_diagnosis_array:\n",
    "    year = int(file[17:21])\n",
    "    file_df = pd.read_csv(data_path + file)\n",
    "    case_count = file_df['count'].agg('sum')\n",
    "#     file_df['percent'] = file_df['count'] / case_count\n",
    "    file_df['grouping_diag'] = file_df.apply(grouping_diag, axis='columns')\n",
    "    file_df = file_df.groupby(['grouping_diag']).sum()\n",
    "    file_df.columns = [year]\n",
    "    summary_df = pd.concat([summary_df, file_df], axis=1, sort=False)\n",
    "summary_df['data_type'] = 'Data'\n",
    "summary_df['Disease'] = summary_df.index"
   ]
  },
  {
   "cell_type": "code",
   "execution_count": 6,
   "metadata": {},
   "outputs": [
    {
     "name": "stdout",
     "output_type": "stream",
     "text": [
      "Index([2009, 2010, 2011, 2012, 2013, 2014, 2015, 2016, 'data_type', 'Disease',\n",
      "       2008],\n",
      "      dtype='object')\n"
     ]
    }
   ],
   "source": [
    "out_df = pd.concat([summary_df, doh_mortality], ignore_index=True, sort=False)\n",
    "print(out_df.columns)\n",
    "out_df = out_df[['data_type','Disease', 2008, 2009, 2010, 2011, 2012, 2013, 2014, 2015, 2016]]\n",
    "out_df.to_csv('../../data/enriched_data/figure_data/mortality_over_time.csv')"
   ]
  },
  {
   "cell_type": "code",
   "execution_count": 7,
   "metadata": {},
   "outputs": [
    {
     "data": {
      "text/plain": [
       "['severe_diagnoses_2011.csv',\n",
       " 'severe_diagnoses_2010.csv',\n",
       " 'severe_diagnoses_2012.csv',\n",
       " 'severe_diagnoses_2013.csv',\n",
       " 'severe_diagnoses_2016.csv',\n",
       " 'severe_diagnoses_2014.csv',\n",
       " 'severe_diagnoses_2015.csv',\n",
       " 'severe_diagnoses_2009.csv']"
      ]
     },
     "execution_count": 7,
     "metadata": {},
     "output_type": "execute_result"
    }
   ],
   "source": [
    "severe_diagnosis_array"
   ]
  },
  {
   "cell_type": "code",
   "execution_count": null,
   "metadata": {},
   "outputs": [],
   "source": []
  }
 ],
 "metadata": {
  "kernelspec": {
   "display_name": "Python 3",
   "language": "python",
   "name": "python3"
  },
  "language_info": {
   "codemirror_mode": {
    "name": "ipython",
    "version": 3
   },
   "file_extension": ".py",
   "mimetype": "text/x-python",
   "name": "python",
   "nbconvert_exporter": "python",
   "pygments_lexer": "ipython3",
   "version": "3.7.3"
  }
 },
 "nbformat": 4,
 "nbformat_minor": 2
}
