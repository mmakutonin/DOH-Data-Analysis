{
 "cells": [
  {
   "cell_type": "code",
   "execution_count": 1,
   "metadata": {},
   "outputs": [],
   "source": [
    "import pandas as pd\n",
    "import numpy as np"
   ]
  },
  {
   "cell_type": "code",
   "execution_count": 2,
   "metadata": {},
   "outputs": [],
   "source": [
    "dtype_obj = {\n",
    "    'health_service_area': str,\n",
    "    'hospital_county': str,\n",
    "    'operating_certificate_number': str,\n",
    "    'facility_id': str,\n",
    "    'facility_name': str,\n",
    "    'age_group': str,\n",
    "    'zip_code__3_digits': str,\n",
    "    'gender': str,\n",
    "    'race': str,\n",
    "    'ethnicity': str,\n",
    "    'length_of_stay': int,\n",
    "    'type_of_admission': str,\n",
    "    'patient_disposition': str,\n",
    "    'discharge_year': int,\n",
    "    'ccs_diagnosis_code': str,\n",
    "    'ccs_diagnosis_description': str,\n",
    "    'ccs_procedure_code': str,\n",
    "    'ccs_procedure_description': str,\n",
    "    'apr_drg_code': str,\n",
    "    'apr_drg_description': str,\n",
    "    'apr_mdc_code': str,\n",
    "    'apr_mdc_description': str,\n",
    "    'apr_severity_of_illness_code': float,\n",
    "    'apr_severity_of_illness_description': str,\n",
    "    'apr_risk_of_mortality': str,\n",
    "    'apr_medical_surgical_description': str,\n",
    "    'source_of_payment_1': str,\n",
    "    'source_of_payment_2': str,\n",
    "    'source_of_payment_3': str,\n",
    "    'attending_provider_license_number': str,\n",
    "    'operating_provider_license_number': str,\n",
    "    'other_provider_license_number': str,\n",
    "    'birth_weight': float,\n",
    "    'abortion_edit_indicator': str,\n",
    "    'emergency_department_indicator': str,\n",
    "    'total_charges': float,\n",
    "    'total_costs': float,\n",
    "    'year': int,\n",
    "    'hospital_service_area': str,\n",
    "    'permanent_facility_id': str,\n",
    "    'payment_typology_1': str,\n",
    "    'payment_typology_2': str,\n",
    "    'payment_typology_3': str,\n",
    "    'diagnosis': str,\n",
    "    'apr_risk_of_mortality_code': float\n",
    "}"
   ]
  },
  {
   "cell_type": "code",
   "execution_count": 3,
   "metadata": {},
   "outputs": [],
   "source": [
    "data = pd.read_csv(\"../data/enriched_data/CD_enriched.csv\", index_col=0, dtype= dtype_obj)\n",
    "f_data = pd.read_csv(\"../data/enriched_data/CD_filtered.csv\", index_col=0, dtype= dtype_obj)"
   ]
  },
  {
   "cell_type": "markdown",
   "metadata": {},
   "source": [
    "## Summary Statistics by Diagnosis"
   ]
  },
  {
   "cell_type": "code",
   "execution_count": 4,
   "metadata": {},
   "outputs": [],
   "source": [
    "def agg_ranking_score(group_by_col, df, ranking_start_index):\n",
    "    counts = df.groupby(group_by_col).size()\n",
    "    return counts.mul(np.arange(ranking_start_index,counts.size + ranking_start_index)).agg('sum') / (counts.agg('sum'))\n",
    "def agg_metadata(df, diagnosis):\n",
    "    if df.size == 0:\n",
    "        return pd.DataFrame({\n",
    "            'Age Score':[0],\n",
    "            'Percent Female':[0],\n",
    "            'Percent Caucasian':[0],\n",
    "            'Avg APR Severity':[0],\n",
    "            'Avg APR Mortality Risk':[0],\n",
    "            'Percent Emergency Admission':[0]\n",
    "        }, index=[diagnosis])\n",
    "    else:\n",
    "        row_count = df.size\n",
    "        age_score = agg_ranking_score('age_group', df, 0)\n",
    "        percent_female = df[df['gender'] == 'F'].size / row_count\n",
    "        percent_white = df[df['race'] == 'White'].size / row_count\n",
    "        APR_severity_score = agg_ranking_score('apr_severity_of_illness_code', df, 1)\n",
    "        APR_risk_of_mortality_score = agg_ranking_score('apr_risk_of_mortality_code', df, 1)\n",
    "        percent_emergency = df[df['type_of_admission'] == 'Emergency'].size / row_count\n",
    "\n",
    "        return pd.DataFrame({\n",
    "            'Age Score':[age_score],\n",
    "            'Percent Female':[percent_female],\n",
    "            'Percent Caucasian':[percent_white],\n",
    "            'Avg APR Severity':[APR_severity_score],\n",
    "            'Avg APR Mortality Risk':[APR_risk_of_mortality_score],\n",
    "            'Percent Emergency Admission':[percent_emergency]\n",
    "        }, index=[diagnosis])"
   ]
  },
  {
   "cell_type": "code",
   "execution_count": 5,
   "metadata": {
    "scrolled": false
   },
   "outputs": [],
   "source": [
    "year_labels = data['year'].unique()\n",
    "diagnosis_categories = data['diagnosis'].unique()\n",
    "for year in year_labels:\n",
    "    year_data = data[data['year'] == year]\n",
    "    summary_df = agg_metadata(year_data, 'All Diagnoses')\n",
    "    year_aggs = summary_df.iloc[0]\n",
    "    for diagnosis in diagnosis_categories:\n",
    "        diag_summary = agg_metadata(year_data[year_data['diagnosis'] == diagnosis], diagnosis)\n",
    "        summary_df=pd.concat([summary_df, diag_summary])\n",
    "    summary_df.to_csv('../data/enriched_data/2019_style_analysis/raw_metadata_scores_{}.csv'.format(year))\n",
    "    normalized_summary_df = summary_df.apply(lambda row: row.div(year_aggs), axis=1)\n",
    "    normalized_summary_df.to_csv('../data/enriched_data/2019_style_analysis/normalized_metadata_scores_{}.csv'.format(year))"
   ]
  },
  {
   "cell_type": "markdown",
   "metadata": {},
   "source": [
    "## Diagnoses with > 100 Cases"
   ]
  },
  {
   "cell_type": "code",
   "execution_count": 6,
   "metadata": {},
   "outputs": [],
   "source": [
    "year_labels = data['year'].unique()\n",
    "for year in year_labels:\n",
    "    year_data = data[data['year'] == year]\n",
    "    APR_counts = pd.DataFrame(year_data.groupby(['apr_drg_description', 'diagnosis']).size(), columns=['count'])\n",
    "    freq_APRs = APR_counts[APR_counts['count'] > 100].sort_values(by=['count'], ascending=False)\n",
    "    freq_APRs.to_csv('../data/enriched_data/2019_style_analysis/frequent_diagnoses_{}.csv'.format(year))"
   ]
  },
  {
   "cell_type": "markdown",
   "metadata": {},
   "source": [
    "## Severe Mortality Diagnosis Category Frequency"
   ]
  },
  {
   "cell_type": "code",
   "execution_count": 7,
   "metadata": {},
   "outputs": [],
   "source": [
    "data['diagnosis'].fillna('Other', inplace=True)\n",
    "year_labels = data['year'].unique()\n",
    "for year in year_labels:\n",
    "    year_data = data[data['year'] == year]\n",
    "    severe_APR_counts = year_data[np.logical_or(year_data['apr_risk_of_mortality_code'] > 2, year_data['apr_severity_of_illness_code'] > 2)]\n",
    "    APR_counts = pd.DataFrame(severe_APR_counts.groupby(['apr_drg_description', 'diagnosis']).size(), columns=['count']).sort_values(by=['count'], ascending=False)\n",
    "    APR_counts.to_csv('../data/enriched_data/2019_style_analysis/severe_diagnoses_{}.csv'.format(year))"
   ]
  },
  {
   "cell_type": "code",
   "execution_count": null,
   "metadata": {},
   "outputs": [],
   "source": []
  }
 ],
 "metadata": {
  "kernelspec": {
   "display_name": "Python 3",
   "language": "python",
   "name": "python3"
  },
  "language_info": {
   "codemirror_mode": {
    "name": "ipython",
    "version": 3
   },
   "file_extension": ".py",
   "mimetype": "text/x-python",
   "name": "python",
   "nbconvert_exporter": "python",
   "pygments_lexer": "ipython3",
   "version": "3.6.9"
  }
 },
 "nbformat": 4,
 "nbformat_minor": 2
}
