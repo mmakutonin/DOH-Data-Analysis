{
 "cells": [
  {
   "cell_type": "code",
   "execution_count": 1,
   "metadata": {},
   "outputs": [],
   "source": [
    "import pandas as pd\n",
    "import numpy as np"
   ]
  },
  {
   "cell_type": "code",
   "execution_count": 2,
   "metadata": {},
   "outputs": [],
   "source": [
    "dtype_obj = {\n",
    "    'Health Service Area': str,\n",
    "    'Hospital County': str,\n",
    "    'Operating Certificate Number': str,\n",
    "    'Facility ID': str,\n",
    "    'Facility Name': str,\n",
    "    'Age Group': str,\n",
    "    'Zip Code - 3 digits': str,\n",
    "    'Gender': str,\n",
    "    'Race': str,\n",
    "    'Ethnicity': str,\n",
    "    'Length of Stay': str,\n",
    "    'Type of Admission': str,\n",
    "    'Patient Disposition': str,\n",
    "    'Discharge Year': int,\n",
    "    'CCS Diagnosis Code': str,\n",
    "    'CCS Diagnosis Description': str,\n",
    "    'CCS Procedure Code': str,\n",
    "    'CCS Procedure Description': str,\n",
    "    'APR DRG Code': str,\n",
    "    'APR DRG Description': str,\n",
    "    'APR MDC Code': str,\n",
    "    'APR MDC Description': str,\n",
    "    'APR Severity of Illness Code': str,\n",
    "    'APR Severity of Illness Description': str,\n",
    "    'APR Risk of Mortality': str,\n",
    "    'APR Medical Surgical Description': str,\n",
    "    'Source of Payment 1': str,\n",
    "    'Source of Payment 2': str,\n",
    "    'Source of Payment 3': str,\n",
    "    'Attending Provider License Number': str,\n",
    "    'Operating Provider License Number': str,\n",
    "    'Other Provider License Number': str,\n",
    "    'Birth Weight': float,\n",
    "    'Abortion Edit Indicator': str,\n",
    "    'Emergency Department Indicator': str,\n",
    "    'Total Charges': float,\n",
    "    'Total Costs': float,\n",
    "    'year': int,\n",
    "    'Hospital Service Area': str,\n",
    "    'Permanent Facility Id': str,\n",
    "    'Payment Typology 1': str,\n",
    "    'Payment Typology 2': str,\n",
    "    'Payment Typology 3': str\n",
    "}"
   ]
  },
  {
   "cell_type": "code",
   "execution_count": 3,
   "metadata": {},
   "outputs": [],
   "source": [
    "def changeIndexNames(key):\n",
    "    return key.lower().replace(\" \",\"_\").replace(\"-\",\"\")\n",
    "index_obj = {k: changeIndexNames(k) for k, v in dtype_obj.items()}"
   ]
  },
  {
   "cell_type": "code",
   "execution_count": 4,
   "metadata": {},
   "outputs": [],
   "source": [
    "def filterColumns(col):\n",
    "    return col in dtype_obj.keys()"
   ]
  },
  {
   "cell_type": "code",
   "execution_count": 5,
   "metadata": {},
   "outputs": [],
   "source": [
    "f2009 = pd.read_csv(\"../data/raw_data/CD_2009.csv\", usecols=filterColumns, dtype=dtype_obj)\n",
    "f2010 = pd.read_csv(\"../data/raw_data/CD_2010.csv\", usecols=filterColumns, dtype=dtype_obj)\n",
    "f2011 = pd.read_csv(\"../data/raw_data/CD_2011.csv\", usecols=filterColumns, dtype=dtype_obj)\n",
    "f2012 = pd.read_csv(\"../data/raw_data/CD_2012.csv\", usecols=filterColumns, dtype=dtype_obj)\n",
    "f2013 = pd.read_csv(\"../data/raw_data/CD_2013.csv\", usecols=filterColumns, dtype=dtype_obj)\n",
    "f2014 = pd.read_csv(\"../data/raw_data/CD_2014.csv\", usecols=filterColumns, dtype=dtype_obj)\n",
    "f2015 = pd.read_csv(\"../data/raw_data/CD_2015.csv\", usecols=filterColumns, dtype=dtype_obj)\n",
    "f2016 = pd.read_csv(\"../data/raw_data/CD_2016.csv\", usecols=filterColumns, dtype=dtype_obj)\n",
    "\n",
    "arry = [f2009,f2010,f2011,f2012,f2013,f2014,f2015,f2016]\n",
    "start = 2009"
   ]
  },
  {
   "cell_type": "code",
   "execution_count": 6,
   "metadata": {},
   "outputs": [
    {
     "data": {
      "text/plain": [
       "(53117, 43)"
      ]
     },
     "execution_count": 6,
     "metadata": {},
     "output_type": "execute_result"
    }
   ],
   "source": [
    "for elem in arry:\n",
    "    elem['year']=start\n",
    "    start= start + 1\n",
    "\n",
    "data = pd.concat(arry, sort=False)\n",
    "\n",
    "data.shape"
   ]
  },
  {
   "cell_type": "code",
   "execution_count": 7,
   "metadata": {},
   "outputs": [],
   "source": [
    "# Data Cleanup operations:\n",
    "data.at[data['Length of Stay'] == '120 +', 'Length of Stay']=120\n",
    "data = data.astype({'Length of Stay':int})"
   ]
  },
  {
   "cell_type": "code",
   "execution_count": null,
   "metadata": {},
   "outputs": [],
   "source": []
  },
  {
   "cell_type": "code",
   "execution_count": 8,
   "metadata": {},
   "outputs": [],
   "source": [
    "data = data.rename(columns=index_obj)"
   ]
  },
  {
   "cell_type": "code",
   "execution_count": 9,
   "metadata": {},
   "outputs": [],
   "source": [
    "for col in list(data):\n",
    "    if data[col].nunique() == 1:\n",
    "        data=data.drop([col], axis=1)"
   ]
  },
  {
   "cell_type": "markdown",
   "metadata": {},
   "source": [
    "## Data Manipulation Workflow"
   ]
  },
  {
   "cell_type": "code",
   "execution_count": 10,
   "metadata": {},
   "outputs": [],
   "source": [
    "# APR DRG Codes of interest; sourced from https://www.health.ny.gov\n",
    "# /facilities/hospital/reimbursement/apr-drg/weights\n",
    "# /2018-07-01_final_weights.htm\n",
    "diag_df = pd.read_csv('../data/APR_DRG_Diagnosis_Categories/APR_Codes.csv', index_col=0)"
   ]
  },
  {
   "cell_type": "code",
   "execution_count": 11,
   "metadata": {},
   "outputs": [
    {
     "name": "stdout",
     "output_type": "stream",
     "text": [
      "diag_cardio ['22' '160' '161' '162' '163' '165' '166' '167' '170' '171' '174' '175'\n",
      " '176' '177' '190' '191' '192' '193' '194' '196' '198' '200' '201' '204'\n",
      " '205' '206']\n",
      "diag_circ ['24' '45' '46' '47' '169' '180' '181' '182' '197' '199' '207' '246' '651'\n",
      " '660' '661' '662' '663']\n",
      "diag_canc ['41' '44' '136' '240' '281' '382' '442' '461' '500' '511' '512' '519'\n",
      " '530' '690' '691' '692' '694' '695' '696']\n",
      "diag_resp ['90' '93' '120' '121' '130' '131' '132' '133' '134' '139' '140' '141'\n",
      " '142' '143' '144']\n",
      "diag_diab ['420']\n",
      "diag_ment ['740' '750' '751' '752' '753' '754' '755' '756' '758' '759' '760']\n",
      "diag_drug ['280' '770' '772' '773' '774' '775' '776']\n",
      "diag_neuro ['23' '26' '40' '42' '43' '48' '52' '53' '54' '58']\n",
      "diag_infect ['49' '50' '51' '80' '113' '137' '138' '244' '248' '249' '463' '531' '710'\n",
      " '711' '720' '721' '723' '724' '890' '892' '893' '894']\n",
      "diag_trauma ['20' '55' '56' '57' '135' '469' '910' '911' '912' '930']\n"
     ]
    }
   ],
   "source": [
    "diagnoses = {}\n",
    "for key in diag_df.index:\n",
    "    nparray = diag_df.loc[key].to_numpy()\n",
    "    diagnoses[key] = nparray[np.logical_not(np.isnan(nparray))].astype(int).astype(str)\n",
    "    print(key, diagnoses[key])"
   ]
  },
  {
   "cell_type": "code",
   "execution_count": 12,
   "metadata": {},
   "outputs": [],
   "source": [
    "#column definition functions\n",
    "def diagnosis_category(el):\n",
    "    if el in diagnoses['diag_cardio']:\n",
    "        return 'Cardiology'\n",
    "    elif el in diagnoses['diag_circ']:\n",
    "        return 'Circulatory'\n",
    "    elif el in diagnoses['diag_canc']:\n",
    "        return 'Cancer'\n",
    "    elif el in diagnoses['diag_resp']:\n",
    "        return 'Respiratory'\n",
    "    elif el in diagnoses['diag_diab']:\n",
    "        return 'Diabetes'\n",
    "    elif el in diagnoses['diag_ment']:\n",
    "        return 'Metal Health'\n",
    "    elif el in diagnoses['diag_drug']:\n",
    "        return 'Drug Issue'\n",
    "    elif el in diagnoses['diag_neuro']:\n",
    "        return 'Neurological'\n",
    "    elif el in diagnoses['diag_infect']:\n",
    "        return 'Infection'\n",
    "    elif el in diagnoses['diag_trauma']:\n",
    "        return 'Trauma'\n",
    "    else:\n",
    "        return None"
   ]
  },
  {
   "cell_type": "code",
   "execution_count": null,
   "metadata": {},
   "outputs": [],
   "source": []
  },
  {
   "cell_type": "code",
   "execution_count": null,
   "metadata": {},
   "outputs": [],
   "source": []
  },
  {
   "cell_type": "code",
   "execution_count": 14,
   "metadata": {},
   "outputs": [
    {
     "name": "stdout",
     "output_type": "stream",
     "text": [
      "below are the filtered row,column dimensions of your data\n",
      "(53117, 42)\n"
     ]
    }
   ],
   "source": [
    "# Add a diagnosis type column\n",
    "data['diagnosis']=data['apr_drg_code'].map(diagnosis_category)\n",
    "\n",
    "#Add a APR Risk of Mortality column\n",
    "data['apr_risk_of_mortality_code'] = data['apr_risk_of_mortality'].map({\n",
    "    'Minor': 1,\n",
    "    'Moderate': 2,\n",
    "    'Major': 3,\n",
    "    'Extreme':4\n",
    "})\n",
    "\n",
    "# Filter data with targeted diagnosis\n",
    "f_data = data[data['diagnosis']!=\"\"]\n",
    "\n",
    "print(\"below are the filtered row,column dimensions of your data\")\n",
    "print(data.shape)"
   ]
  },
  {
   "cell_type": "code",
   "execution_count": 15,
   "metadata": {},
   "outputs": [],
   "source": [
    "data.to_csv(\"../data/enriched_data/CD_enriched.csv\")"
   ]
  },
  {
   "cell_type": "code",
   "execution_count": 16,
   "metadata": {},
   "outputs": [],
   "source": [
    "f_data.to_csv(\"../data/enriched_data/CD_filtered.csv\")"
   ]
  },
  {
   "cell_type": "code",
   "execution_count": 17,
   "metadata": {},
   "outputs": [
    {
     "data": {
      "text/plain": [
       "hospital_county                         object\n",
       "operating_certificate_number            object\n",
       "facility_id                             object\n",
       "facility_name                           object\n",
       "age_group                               object\n",
       "zip_code__3_digits                      object\n",
       "gender                                  object\n",
       "race                                    object\n",
       "ethnicity                               object\n",
       "length_of_stay                           int32\n",
       "type_of_admission                       object\n",
       "patient_disposition                     object\n",
       "discharge_year                           int32\n",
       "ccs_diagnosis_code                      object\n",
       "ccs_diagnosis_description               object\n",
       "ccs_procedure_code                      object\n",
       "ccs_procedure_description               object\n",
       "apr_drg_code                            object\n",
       "apr_drg_description                     object\n",
       "apr_mdc_code                            object\n",
       "apr_mdc_description                     object\n",
       "apr_severity_of_illness_code            object\n",
       "apr_severity_of_illness_description     object\n",
       "apr_risk_of_mortality                   object\n",
       "apr_medical_surgical_description        object\n",
       "source_of_payment_1                     object\n",
       "source_of_payment_2                     object\n",
       "source_of_payment_3                     object\n",
       "attending_provider_license_number       object\n",
       "operating_provider_license_number       object\n",
       "other_provider_license_number           object\n",
       "birth_weight                           float64\n",
       "abortion_edit_indicator                 object\n",
       "emergency_department_indicator          object\n",
       "total_charges                          float64\n",
       "total_costs                            float64\n",
       "year                                     int64\n",
       "payment_typology_1                      object\n",
       "payment_typology_2                      object\n",
       "payment_typology_3                      object\n",
       "diagnosis                               object\n",
       "apr_risk_of_mortality_code             float64\n",
       "dtype: object"
      ]
     },
     "execution_count": 17,
     "metadata": {},
     "output_type": "execute_result"
    }
   ],
   "source": [
    "f_data.dtypes"
   ]
  },
  {
   "cell_type": "code",
   "execution_count": null,
   "metadata": {},
   "outputs": [],
   "source": []
  },
  {
   "cell_type": "code",
   "execution_count": null,
   "metadata": {},
   "outputs": [],
   "source": []
  }
 ],
 "metadata": {
  "kernelspec": {
   "display_name": "Python 3",
   "language": "python",
   "name": "python3"
  },
  "language_info": {
   "codemirror_mode": {
    "name": "ipython",
    "version": 3
   },
   "file_extension": ".py",
   "mimetype": "text/x-python",
   "name": "python",
   "nbconvert_exporter": "python",
   "pygments_lexer": "ipython3",
   "version": "3.6.9"
  }
 },
 "nbformat": 4,
 "nbformat_minor": 2
}
