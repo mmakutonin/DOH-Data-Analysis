{
 "cells": [
  {
   "cell_type": "code",
   "execution_count": 4,
   "metadata": {},
   "outputs": [],
   "source": [
    "import pandas as pd\n",
    "import numpy as np"
   ]
  },
  {
   "cell_type": "code",
   "execution_count": 5,
   "metadata": {},
   "outputs": [],
   "source": [
    "dtype_obj = {\n",
    "    'Health Service Area': str,\n",
    "    'Hospital County': str,\n",
    "    'Operating Certificate Number': str,\n",
    "    'Facility ID': str,\n",
    "    'Facility Name': str,\n",
    "    'Age Group': str,\n",
    "    'Zip Code - 3 digits': str,\n",
    "    'Gender': str,\n",
    "    'Race': str,\n",
    "    'Ethnicity': str,\n",
    "    'Length of Stay': int,\n",
    "    'Type of Admission': str,\n",
    "    'Patient Disposition': str,\n",
    "    'Discharge Year': int,\n",
    "    'CCS Diagnosis Code': str,\n",
    "    'CCS Diagnosis Description': str,\n",
    "    'CCS Procedure Code': str,\n",
    "    'CCS Procedure Description': str,\n",
    "    'APR DRG Code': str,\n",
    "    'APR DRG Description': str,\n",
    "    'APR MDC Code': str,\n",
    "    'APR MDC Description': str,\n",
    "    'APR Severity of Illness Code': str,\n",
    "    'APR Severity of Illness Description': str,\n",
    "    'APR Risk of Mortality': str,\n",
    "    'APR Medical Surgical Description': str,\n",
    "    'Source of Payment 1': str,\n",
    "    'Source of Payment 2': str,\n",
    "    'Source of Payment 3': str,\n",
    "    'Attending Provider License Number': str,\n",
    "    'Operating Provider License Number': str,\n",
    "    'Other Provider License Number': str,\n",
    "    'Birth Weight': float,\n",
    "    'Abortion Edit Indicator': str,\n",
    "    'Emergency Department Indicator': str,\n",
    "    'Total Charges': float,\n",
    "    'Total Costs': float,\n",
    "    'year': int,\n",
    "    'Hospital Service Area': str,\n",
    "    'Permanent Facility Id': str,\n",
    "    'Payment Typology 1': str,\n",
    "    'Payment Typology 2': str,\n",
    "    'Payment Typology 3': str\n",
    "}"
   ]
  },
  {
   "cell_type": "code",
   "execution_count": 7,
   "metadata": {},
   "outputs": [],
   "source": [
    "def changeIndexNames(key):\n",
    "    return key.lower().replace(\" \",\"_\").replace(\"-\",\"\")\n",
    "index_obj = {k: changeIndexNames(k) for k, v in dtype_obj.items()}"
   ]
  },
  {
   "cell_type": "code",
   "execution_count": 9,
   "metadata": {},
   "outputs": [],
   "source": [
    "f2009 = pd.read_csv(\"../data/raw_data/CD_2009.csv\")\n",
    "f2010 = pd.read_csv(\"../data/raw_data/CD_2010.csv\")\n",
    "f2011 = pd.read_csv(\"../data/raw_data/CD_2011.csv\")\n",
    "f2012 = pd.read_csv(\"../data/raw_data/CD_2012.csv\")\n",
    "f2013 = pd.read_csv(\"../data/raw_data/CD_2013.csv\")\n",
    "f2014 = pd.read_csv(\"../data/raw_data/CD_2014.csv\")\n",
    "f2015 = pd.read_csv(\"../data/raw_data/CD_2015.csv\")\n",
    "f2016 = pd.read_csv(\"../data/raw_data/CD_2016.csv\")\n",
    "\n",
    "arry = [f2009,f2010,f2011,f2012,f2013,f2014,f2015,f2016]\n",
    "start = 2009"
   ]
  },
  {
   "cell_type": "code",
   "execution_count": 10,
   "metadata": {},
   "outputs": [
    {
     "data": {
      "text/plain": [
       "(53117, 45)"
      ]
     },
     "execution_count": 10,
     "metadata": {},
     "output_type": "execute_result"
    }
   ],
   "source": [
    "for elem in arry:\n",
    "    elem['year']=start\n",
    "    start= start + 1\n",
    "\n",
    "data = pd.concat(arry, sort=False)\n",
    "\n",
    "data.shape"
   ]
  },
  {
   "cell_type": "code",
   "execution_count": 11,
   "metadata": {},
   "outputs": [],
   "source": [
    "# Data Cleanup operations:\n",
    "data.at[data['Length of Stay'] == '120 +', 'Length of Stay']=120\n",
    "data=data.drop(['Unnamed: 37','Ratio of Total Costs to Total Charges'], axis=1)"
   ]
  },
  {
   "cell_type": "code",
   "execution_count": 12,
   "metadata": {},
   "outputs": [],
   "source": [
    "data = data.astype(dtype_obj)"
   ]
  },
  {
   "cell_type": "code",
   "execution_count": 13,
   "metadata": {},
   "outputs": [],
   "source": [
    "data = data.rename(columns=index_obj)"
   ]
  },
  {
   "cell_type": "code",
   "execution_count": 14,
   "metadata": {},
   "outputs": [],
   "source": [
    "for col in list(data):\n",
    "    if data[col].nunique() == 1:\n",
    "        data=data.drop([col], axis=1)"
   ]
  },
  {
   "cell_type": "markdown",
   "metadata": {},
   "source": [
    "## Data Manipulation Workflow"
   ]
  },
  {
   "cell_type": "code",
   "execution_count": 15,
   "metadata": {},
   "outputs": [],
   "source": [
    "# APR DRG Codes of interest; sourced from https://www.health.ny.gov\n",
    "# /facilities/hospital/reimbursement/apr-drg/weights\n",
    "# /2018-07-01_final_weights.htm\n",
    "diag_cardio = ['22','160','161','162','163','165','166','167','170','171','174','175','176','177',\n",
    "               '190','191','192','193','194','196','198','200',' 201','204','205','206']\n",
    "diag_circ = ['24','45','46','47','169','180','181','182','197','199','207','246','651','660','661',\n",
    "             '662','663']\n",
    "diag_canc = ['41','44','136','240','281','382','442','461','500','511','512519','530','690','691',\n",
    "             '692','694','695','696']\n",
    "diag_resp = ['90','93','120','121','130','131','132','133','134','139','140','141','142','143','144']\n",
    "diag_diab = ['420']\n",
    "diag_ment = ['740','750','751','752','753','754','755','756','758','759','760']\n",
    "diag_drug = ['280','770','772','773','774','775','776']\n",
    "diag_neuro = ['23','26','40','42','43','48','52','53','54','58']\n",
    "diag_infect = ['49','50','51','80','113','137','138','244','248','249','463','531','710','711','720',\n",
    "               '721','723','724','890','892','893','894']\n",
    "diag_trauma = ['20','55','56','57','135','469','910','911','912','930']"
   ]
  },
  {
   "cell_type": "code",
   "execution_count": 16,
   "metadata": {},
   "outputs": [],
   "source": [
    "#Data Processing variables\n",
    "crd = data['apr_drg_code'].isin(diag_cardio)\n",
    "crc = data['apr_drg_code'].isin(diag_circ)\n",
    "cnc = data['apr_drg_code'].isin(diag_canc)\n",
    "rsp = data['apr_drg_code'].isin(diag_resp)\n",
    "dbt = data['apr_drg_code'].isin(diag_diab)\n",
    "mnt = data['apr_drg_code'].isin(diag_ment)\n",
    "drg = data['apr_drg_code'].isin(diag_drug)\n",
    "nrl = data['apr_drg_code'].isin(diag_neuro)\n",
    "inf = data['apr_drg_code'].isin(diag_infect)\n",
    "trm = data['apr_drg_code'].isin(diag_trauma)"
   ]
  },
  {
   "cell_type": "code",
   "execution_count": 17,
   "metadata": {},
   "outputs": [
    {
     "ename": "NameError",
     "evalue": "name 'numpy' is not defined",
     "output_type": "error",
     "traceback": [
      "\u001b[1;31m---------------------------------------------------------------------------\u001b[0m",
      "\u001b[1;31mNameError\u001b[0m                                 Traceback (most recent call last)",
      "\u001b[1;32m<ipython-input-17-16437846e5c8>\u001b[0m in \u001b[0;36m<module>\u001b[1;34m\u001b[0m\n\u001b[0;32m      1\u001b[0m \u001b[1;31m# Add a diagnosis type column\u001b[0m\u001b[1;33m\u001b[0m\u001b[1;33m\u001b[0m\u001b[1;33m\u001b[0m\u001b[0m\n\u001b[1;32m----> 2\u001b[1;33m data['diagnosis']=numpy.where(crd,\"Cardiology\",\n\u001b[0m\u001b[0;32m      3\u001b[0m                   numpy.where(crc,\"Circulatory\",\n\u001b[0;32m      4\u001b[0m                   numpy.where(cnc,\"Cancer\",\n\u001b[0;32m      5\u001b[0m                   numpy.where(rsp,\"Respiratory\",\n",
      "\u001b[1;31mNameError\u001b[0m: name 'numpy' is not defined"
     ]
    }
   ],
   "source": [
    "# Add a diagnosis type column\n",
    "data['diagnosis']=numpy.where(crd,\"Cardiology\",\n",
    "                  numpy.where(crc,\"Circulatory\",\n",
    "                  numpy.where(cnc,\"Cancer\",\n",
    "                  numpy.where(rsp,\"Respiratory\",\n",
    "                  numpy.where(dbt,\"Diabetes\",\n",
    "                  numpy.where(mnt,\"Metal Health\",\n",
    "                  numpy.where(drg,\"Drug Issue\",\n",
    "                  numpy.where(nrl,\"Neurological\",\n",
    "                  numpy.where(inf,\"Infection\",\n",
    "                  numpy.where(trm,\"Trauma\",\"\"))))))))))\n",
    "\n",
    "# Filter data with targeted diagnosis\n",
    "f_data = data[data['diagnosis']!=\"\"]\n",
    "\n",
    "print(\"below are the filtered row,column dimensions of your data\")\n",
    "print(f_data.shape)"
   ]
  },
  {
   "cell_type": "code",
   "execution_count": null,
   "metadata": {},
   "outputs": [],
   "source": []
  }
 ],
 "metadata": {
  "kernelspec": {
   "display_name": "Python 3",
   "language": "python",
   "name": "python3"
  },
  "language_info": {
   "codemirror_mode": {
    "name": "ipython",
    "version": 3
   },
   "file_extension": ".py",
   "mimetype": "text/x-python",
   "name": "python",
   "nbconvert_exporter": "python",
   "pygments_lexer": "ipython3",
   "version": "3.6.9"
  }
 },
 "nbformat": 4,
 "nbformat_minor": 2
}
