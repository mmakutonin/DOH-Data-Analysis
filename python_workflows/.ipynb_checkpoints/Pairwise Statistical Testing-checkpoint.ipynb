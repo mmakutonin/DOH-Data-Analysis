{
 "cells": [
  {
   "cell_type": "code",
   "execution_count": 3,
   "metadata": {},
   "outputs": [],
   "source": [
    "import pandas as pd\n",
    "import numpy as np"
   ]
  },
  {
   "cell_type": "code",
   "execution_count": 4,
   "metadata": {},
   "outputs": [],
   "source": [
    "dtype_obj = {\n",
    "    'health_service_area': str,\n",
    "    'hospital_county': str,\n",
    "    'operating_certificate_number': str,\n",
    "    'facility_id': str,\n",
    "    'facility_name': str,\n",
    "    'age_group': str,\n",
    "    'zip_code__3_digits': str,\n",
    "    'gender': str,\n",
    "    'race': str,\n",
    "    'ethnicity': str,\n",
    "    'length_of_stay': int,\n",
    "    'type_of_admission': str,\n",
    "    'patient_disposition': str,\n",
    "    'discharge_year': int,\n",
    "    'ccs_diagnosis_code': str,\n",
    "    'ccs_diagnosis_description': str,\n",
    "    'ccs_procedure_code': str,\n",
    "    'ccs_procedure_description': str,\n",
    "    'apr_drg_code': str,\n",
    "    'apr_drg_description': str,\n",
    "    'apr_mdc_code': str,\n",
    "    'apr_mdc_description': str,\n",
    "    'apr_severity_of_illness_code': str,\n",
    "    'apr_severity_of_illness_description': str,\n",
    "    'apr_risk_of_mortality': str,\n",
    "    'apr_medical_surgical_description': str,\n",
    "    'source_of_payment_1': str,\n",
    "    'source_of_payment_2': str,\n",
    "    'source_of_payment_3': str,\n",
    "    'attending_provider_license_number': str,\n",
    "    'operating_provider_license_number': str,\n",
    "    'other_provider_license_number': str,\n",
    "    'birth_weight': float,\n",
    "    'abortion_edit_indicator': str,\n",
    "    'emergency_department_indicator': str,\n",
    "    'total_charges': float,\n",
    "    'total_costs': float,\n",
    "    'year': int,\n",
    "    'hospital_service_area': str,\n",
    "    'permanent_facility_id': str,\n",
    "    'payment_typology_1': str,\n",
    "    'payment_typology_2': str,\n",
    "    'payment_typology_3': str,\n",
    "    'diagnosis': str\n",
    "}"
   ]
  },
  {
   "cell_type": "code",
   "execution_count": 2,
   "metadata": {},
   "outputs": [
    {
     "name": "stderr",
     "output_type": "stream",
     "text": [
      "C:\\Users\\Michael\\Anaconda3\\lib\\site-packages\\IPython\\core\\interactiveshell.py:3058: DtypeWarning: Columns (39,41,42,43) have mixed types. Specify dtype option on import or set low_memory=False.\n",
      "  interactivity=interactivity, compiler=compiler, result=result)\n"
     ]
    }
   ],
   "source": [
    "f_data = pd.read_csv(\"../data/enriched_data/CD_filtered.csv\")"
   ]
  },
  {
   "cell_type": "code",
   "execution_count": null,
   "metadata": {},
   "outputs": [],
   "source": []
  }
 ],
 "metadata": {
  "kernelspec": {
   "display_name": "Python 3",
   "language": "python",
   "name": "python3"
  },
  "language_info": {
   "codemirror_mode": {
    "name": "ipython",
    "version": 3
   },
   "file_extension": ".py",
   "mimetype": "text/x-python",
   "name": "python",
   "nbconvert_exporter": "python",
   "pygments_lexer": "ipython3",
   "version": "3.6.9"
  }
 },
 "nbformat": 4,
 "nbformat_minor": 2
}
